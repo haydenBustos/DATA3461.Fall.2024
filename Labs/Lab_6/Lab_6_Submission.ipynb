{
  "cells": [
    {
      "cell_type": "markdown",
      "id": "49cf8381",
      "metadata": {
        "id": "49cf8381"
      },
      "source": [
        "# Lab 6\n",
        "\n",
        "Scikit learn provides a large variety of algorithms for some common Machine Learning tasks, such as:\n",
        "\n",
        "* Classification\n",
        "* Regression\n",
        "* Clustering\n",
        "* Feature Selection\n",
        "* Anomaly Detection\n",
        "\n",
        "It also provides some datasets that you can use to test these algorithms:\n",
        "\n",
        "* Classification Datasets:\n",
        "    * Breast cancer wisconsin\n",
        "    * Iris plants (3-classes)\n",
        "    * Optical recognition of handwritten digits (10-classes)\n",
        "    * Wine (n-classes)\n",
        "\n",
        "* Regression Datasets:\n",
        "    * Boston house prices\n",
        "    * Diabetes\n",
        "    * Linnerrud (multiple regression)\n",
        "    * California Housing\n",
        "\n",
        "* Image:\n",
        "    * The Olivetti faces\n",
        "    * The Labeled Faces in the Wild face recognition\n",
        "    * Forest covertypes\n",
        "\n",
        "* NLP:\n",
        "    * News group\n",
        "    * Reuters Corpus Volume I\n",
        "\n",
        "* Other:\n",
        "    * Kddcup 99- Intrusion Detection"
      ]
    },
    {
      "cell_type": "markdown",
      "id": "d4e3b6e9",
      "metadata": {
        "id": "d4e3b6e9"
      },
      "source": [
        "## Exercises\n",
        "\n",
        "1. Use the full [Kddcup](http://kdd.ics.uci.edu/databases/kddcup99/kddcup99.html) dataset to compare classification performance of 3 different classifiers.\n",
        "    * Separate the data into train, validation, and test.\n",
        "    * Use accuracy as the metric for assessing performance.\n",
        "    * For each classifier, identify the hyperparameters. Perform optimization over at least 2 hyperparameters.   \n",
        "    * Compare the performance of the optimal configuration of the classifiers.\n",
        "\n",
        "2. Pick the best algorithm in question 1. Create an ensemble of at least 25 models, and use them for the classification task. Identify the top and bottom 10% of the data in terms of uncertainty of the decision.\n",
        "\n",
        "3. Use 2 different feature selection algorithm to identify the 10 most important features for the task in question 1. Retrain classifiers in question 1 with just this subset of features and compare performance.\n",
        "\n",
        "4. Use the same data, removing the labels, and compare performance of 3 different clustering algorithms. Can you find clusters for each of the classes in question 1?\n",
        "\n",
        "5. Can you identify any clusters within the top/botton 10% identified in 2. What are their characteristics?\n",
        "\n",
        "6. Use the \"SA\" dataset to compare the performance of 3 different anomaly detection algorithms.\n",
        "\n",
        "7. Create a subsample of 250 datapoints, redo question 6, using Leave-one-out as the method of evaluation.\n",
        "\n",
        "8. Use the feature selection algorithm to identify the 5 most important features for the task in question 6, for each algorithm. Does the anomaly detection improve using less features?"
      ]
    },
    {
      "cell_type": "markdown",
      "id": "ef18662c",
      "metadata": {
        "id": "ef18662c"
      },
      "source": [
        "## Quick look at the data"
      ]
    },
    {
      "cell_type": "code",
      "execution_count": 1,
      "id": "9f1c631a",
      "metadata": {
        "id": "9f1c631a"
      },
      "outputs": [],
      "source": [
        "from sklearn.datasets import fetch_kddcup99\n",
        "D=fetch_kddcup99()"
      ]
    },
    {
      "cell_type": "code",
      "execution_count": 2,
      "id": "7d561eff",
      "metadata": {
        "colab": {
          "base_uri": "https://localhost:8080/"
        },
        "id": "7d561eff",
        "outputId": "32a86c04-1792-46bc-bdc8-ec78fc2c8afb"
      },
      "outputs": [
        {
          "output_type": "execute_result",
          "data": {
            "text/plain": [
              "['DESCR', 'data', 'feature_names', 'frame', 'target', 'target_names']"
            ]
          },
          "metadata": {},
          "execution_count": 2
        }
      ],
      "source": [
        "dir(D)"
      ]
    },
    {
      "cell_type": "code",
      "execution_count": 3,
      "id": "875d2d16",
      "metadata": {
        "colab": {
          "base_uri": "https://localhost:8080/"
        },
        "id": "875d2d16",
        "outputId": "95512e50-9262-49a1-aa8d-eb9f278e07a1"
      },
      "outputs": [
        {
          "output_type": "stream",
          "name": "stdout",
          "text": [
            ".. _kddcup99_dataset:\n",
            "\n",
            "Kddcup 99 dataset\n",
            "-----------------\n",
            "\n",
            "The KDD Cup '99 dataset was created by processing the tcpdump portions\n",
            "of the 1998 DARPA Intrusion Detection System (IDS) Evaluation dataset,\n",
            "created by MIT Lincoln Lab [2]_. The artificial data (described on the `dataset's\n",
            "homepage <https://kdd.ics.uci.edu/databases/kddcup99/kddcup99.html>`_) was\n",
            "generated using a closed network and hand-injected attacks to produce a\n",
            "large number of different types of attack with normal activity in the\n",
            "background. As the initial goal was to produce a large training set for\n",
            "supervised learning algorithms, there is a large proportion (80.1%) of\n",
            "abnormal data which is unrealistic in real world, and inappropriate for\n",
            "unsupervised anomaly detection which aims at detecting 'abnormal' data, i.e.:\n",
            "\n",
            "* qualitatively different from normal data\n",
            "* in large minority among the observations.\n",
            "\n",
            "We thus transform the KDD Data set into two different data sets: SA and SF.\n",
            "\n",
            "* SA is obtained by simply selecting all the normal data, and a small\n",
            "  proportion of abnormal data to gives an anomaly proportion of 1%.\n",
            "\n",
            "* SF is obtained as in [3]_\n",
            "  by simply picking up the data whose attribute logged_in is positive, thus\n",
            "  focusing on the intrusion attack, which gives a proportion of 0.3% of\n",
            "  attack.\n",
            "\n",
            "* http and smtp are two subsets of SF corresponding with third feature\n",
            "  equal to 'http' (resp. to 'smtp').\n",
            "\n",
            "General KDD structure:\n",
            "\n",
            "================      ==========================================\n",
            "Samples total         4898431\n",
            "Dimensionality        41\n",
            "Features              discrete (int) or continuous (float)\n",
            "Targets               str, 'normal.' or name of the anomaly type\n",
            "================      ==========================================\n",
            "\n",
            "SA structure:\n",
            "\n",
            "================      ==========================================\n",
            "Samples total         976158\n",
            "Dimensionality        41\n",
            "Features              discrete (int) or continuous (float)\n",
            "Targets               str, 'normal.' or name of the anomaly type\n",
            "================      ==========================================\n",
            "\n",
            "SF structure:\n",
            "\n",
            "================      ==========================================\n",
            "Samples total         699691\n",
            "Dimensionality        4\n",
            "Features              discrete (int) or continuous (float)\n",
            "Targets               str, 'normal.' or name of the anomaly type\n",
            "================      ==========================================\n",
            "\n",
            "http structure:\n",
            "\n",
            "================      ==========================================\n",
            "Samples total         619052\n",
            "Dimensionality        3\n",
            "Features              discrete (int) or continuous (float)\n",
            "Targets               str, 'normal.' or name of the anomaly type\n",
            "================      ==========================================\n",
            "\n",
            "smtp structure:\n",
            "\n",
            "================      ==========================================\n",
            "Samples total         95373\n",
            "Dimensionality        3\n",
            "Features              discrete (int) or continuous (float)\n",
            "Targets               str, 'normal.' or name of the anomaly type\n",
            "================      ==========================================\n",
            "\n",
            ":func:`sklearn.datasets.fetch_kddcup99` will load the kddcup99 dataset; it\n",
            "returns a dictionary-like object with the feature matrix in the ``data`` member\n",
            "and the target values in ``target``. The \"as_frame\" optional argument converts\n",
            "``data`` into a pandas DataFrame and ``target`` into a pandas Series. The\n",
            "dataset will be downloaded from the web if necessary.\n",
            "\n",
            ".. rubric:: References\n",
            "\n",
            ".. [2] Analysis and Results of the 1999 DARPA Off-Line Intrusion\n",
            "       Detection Evaluation, Richard Lippmann, Joshua W. Haines,\n",
            "       David J. Fried, Jonathan Korba, Kumar Das.\n",
            "\n",
            ".. [3] K. Yamanishi, J.-I. Takeuchi, G. Williams, and P. Milne. Online\n",
            "       unsupervised outlier detection using finite mixtures with\n",
            "       discounting learning algorithms. In Proceedings of the sixth\n",
            "       ACM SIGKDD international conference on Knowledge discovery\n",
            "       and data mining, pages 320-324. ACM Press, 2000.\n",
            "\n"
          ]
        }
      ],
      "source": [
        "print(D[\"DESCR\"])"
      ]
    },
    {
      "cell_type": "code",
      "execution_count": 4,
      "id": "f3c3c5b8",
      "metadata": {
        "colab": {
          "base_uri": "https://localhost:8080/"
        },
        "id": "f3c3c5b8",
        "outputId": "de7c1764-756c-4811-c4e2-59b8c25eb170"
      },
      "outputs": [
        {
          "output_type": "execute_result",
          "data": {
            "text/plain": [
              "['DESCR', 'data', 'feature_names', 'frame', 'target', 'target_names']"
            ]
          },
          "metadata": {},
          "execution_count": 4
        }
      ],
      "source": [
        "dir(D)"
      ]
    },
    {
      "cell_type": "code",
      "execution_count": 5,
      "id": "4cef559d",
      "metadata": {
        "colab": {
          "base_uri": "https://localhost:8080/"
        },
        "id": "4cef559d",
        "outputId": "0437f685-4df6-44a1-bb98-57f937ff81c0"
      },
      "outputs": [
        {
          "output_type": "execute_result",
          "data": {
            "text/plain": [
              "array([b'back.', b'buffer_overflow.', b'ftp_write.', b'guess_passwd.',\n",
              "       b'imap.', b'ipsweep.', b'land.', b'loadmodule.', b'multihop.',\n",
              "       b'neptune.', b'nmap.', b'normal.', b'perl.', b'phf.', b'pod.',\n",
              "       b'portsweep.', b'rootkit.', b'satan.', b'smurf.', b'spy.',\n",
              "       b'teardrop.', b'warezclient.', b'warezmaster.'], dtype=object)"
            ]
          },
          "metadata": {},
          "execution_count": 5
        }
      ],
      "source": [
        "import numpy as np\n",
        "np.unique(D[\"target\"])"
      ]
    },
    {
      "cell_type": "code",
      "execution_count": 6,
      "id": "6ed0289b",
      "metadata": {
        "colab": {
          "base_uri": "https://localhost:8080/"
        },
        "id": "6ed0289b",
        "outputId": "4840de11-6cb4-4135-c7f5-96822e6e5242"
      },
      "outputs": [
        {
          "output_type": "execute_result",
          "data": {
            "text/plain": [
              "23"
            ]
          },
          "metadata": {},
          "execution_count": 6
        }
      ],
      "source": [
        "len(np.unique(D[\"target\"]))"
      ]
    },
    {
      "cell_type": "code",
      "execution_count": 7,
      "id": "aff034ea",
      "metadata": {
        "colab": {
          "base_uri": "https://localhost:8080/"
        },
        "id": "aff034ea",
        "outputId": "8473f126-67d3-4588-df68-63a0acdf94ac"
      },
      "outputs": [
        {
          "output_type": "execute_result",
          "data": {
            "text/plain": [
              "['duration',\n",
              " 'protocol_type',\n",
              " 'service',\n",
              " 'flag',\n",
              " 'src_bytes',\n",
              " 'dst_bytes',\n",
              " 'land',\n",
              " 'wrong_fragment',\n",
              " 'urgent',\n",
              " 'hot',\n",
              " 'num_failed_logins',\n",
              " 'logged_in',\n",
              " 'num_compromised',\n",
              " 'root_shell',\n",
              " 'su_attempted',\n",
              " 'num_root',\n",
              " 'num_file_creations',\n",
              " 'num_shells',\n",
              " 'num_access_files',\n",
              " 'num_outbound_cmds',\n",
              " 'is_host_login',\n",
              " 'is_guest_login',\n",
              " 'count',\n",
              " 'srv_count',\n",
              " 'serror_rate',\n",
              " 'srv_serror_rate',\n",
              " 'rerror_rate',\n",
              " 'srv_rerror_rate',\n",
              " 'same_srv_rate',\n",
              " 'diff_srv_rate',\n",
              " 'srv_diff_host_rate',\n",
              " 'dst_host_count',\n",
              " 'dst_host_srv_count',\n",
              " 'dst_host_same_srv_rate',\n",
              " 'dst_host_diff_srv_rate',\n",
              " 'dst_host_same_src_port_rate',\n",
              " 'dst_host_srv_diff_host_rate',\n",
              " 'dst_host_serror_rate',\n",
              " 'dst_host_srv_serror_rate',\n",
              " 'dst_host_rerror_rate',\n",
              " 'dst_host_srv_rerror_rate']"
            ]
          },
          "metadata": {},
          "execution_count": 7
        }
      ],
      "source": [
        "D[\"feature_names\"]"
      ]
    },
    {
      "cell_type": "markdown",
      "source": [
        "# **Excercise 1**\n",
        "### **Splitting Dataset**\n",
        "Label encoding"
      ],
      "metadata": {
        "id": "mazTIi0yv3Yl"
      },
      "id": "mazTIi0yv3Yl"
    },
    {
      "source": [
        "!pip install category_encoders\n",
        "import pandas as pd\n",
        "from sklearn.model_selection import train_test_split\n",
        "from sklearn.preprocessing import LabelEncoder\n",
        "from category_encoders import OneHotEncoder\n",
        "\n",
        "df = pd.DataFrame(D.data, columns=D.feature_names)\n",
        "\n",
        "y = pd.Series(D.target)\n",
        "X = df\n",
        "\n",
        "categorical_features = ['protocol_type', 'service', 'flag'] # Categorical columns\n",
        "encoder = OneHotEncoder(cols=categorical_features, handle_unknown='ignore')\n",
        "\n",
        "# Split into train (70%) and temporary (30%)\n",
        "X_train, X_temp, y_train, y_temp = train_test_split(X, y, test_size=0.3, random_state=42)\n",
        "\n",
        "# Split temporary (30%) into validation (15%) and test (15%)\n",
        "X_val, X_test, y_val, y_test = train_test_split(X_temp, y_temp, test_size=0.5, random_state=42)\n",
        "X_train = encoder.fit_transform(X_train)\n",
        "X_val = encoder.transform(X_val)\n",
        "\n",
        "print(f\"Train set size: {len(X_train)}\")\n",
        "print(f\"Validation set size: {len(X_val)}\")\n",
        "print(f\"Test set size: {len(X_test)}\")"
      ],
      "cell_type": "code",
      "metadata": {
        "colab": {
          "base_uri": "https://localhost:8080/"
        },
        "id": "3s9Jx9X9zs83",
        "outputId": "243d75d3-9faf-4538-f97f-22b69469fe12"
      },
      "id": "3s9Jx9X9zs83",
      "execution_count": 26,
      "outputs": [
        {
          "output_type": "stream",
          "name": "stdout",
          "text": [
            "Collecting category_encoders\n",
            "  Downloading category_encoders-2.6.4-py2.py3-none-any.whl.metadata (8.0 kB)\n",
            "Requirement already satisfied: numpy>=1.14.0 in /usr/local/lib/python3.10/dist-packages (from category_encoders) (1.26.4)\n",
            "Requirement already satisfied: scikit-learn>=0.20.0 in /usr/local/lib/python3.10/dist-packages (from category_encoders) (1.5.2)\n",
            "Requirement already satisfied: scipy>=1.0.0 in /usr/local/lib/python3.10/dist-packages (from category_encoders) (1.13.1)\n",
            "Requirement already satisfied: statsmodels>=0.9.0 in /usr/local/lib/python3.10/dist-packages (from category_encoders) (0.14.4)\n",
            "Requirement already satisfied: pandas>=1.0.5 in /usr/local/lib/python3.10/dist-packages (from category_encoders) (2.2.2)\n",
            "Requirement already satisfied: patsy>=0.5.1 in /usr/local/lib/python3.10/dist-packages (from category_encoders) (1.0.1)\n",
            "Requirement already satisfied: python-dateutil>=2.8.2 in /usr/local/lib/python3.10/dist-packages (from pandas>=1.0.5->category_encoders) (2.8.2)\n",
            "Requirement already satisfied: pytz>=2020.1 in /usr/local/lib/python3.10/dist-packages (from pandas>=1.0.5->category_encoders) (2024.2)\n",
            "Requirement already satisfied: tzdata>=2022.7 in /usr/local/lib/python3.10/dist-packages (from pandas>=1.0.5->category_encoders) (2024.2)\n",
            "Requirement already satisfied: joblib>=1.2.0 in /usr/local/lib/python3.10/dist-packages (from scikit-learn>=0.20.0->category_encoders) (1.4.2)\n",
            "Requirement already satisfied: threadpoolctl>=3.1.0 in /usr/local/lib/python3.10/dist-packages (from scikit-learn>=0.20.0->category_encoders) (3.5.0)\n",
            "Requirement already satisfied: packaging>=21.3 in /usr/local/lib/python3.10/dist-packages (from statsmodels>=0.9.0->category_encoders) (24.2)\n",
            "Requirement already satisfied: six>=1.5 in /usr/local/lib/python3.10/dist-packages (from python-dateutil>=2.8.2->pandas>=1.0.5->category_encoders) (1.16.0)\n",
            "Downloading category_encoders-2.6.4-py2.py3-none-any.whl (82 kB)\n",
            "\u001b[2K   \u001b[90m━━━━━━━━━━━━━━━━━━━━━━━━━━━━━━━━━━━━━━━━\u001b[0m \u001b[32m82.0/82.0 kB\u001b[0m \u001b[31m2.4 MB/s\u001b[0m eta \u001b[36m0:00:00\u001b[0m\n",
            "\u001b[?25hInstalling collected packages: category_encoders\n",
            "Successfully installed category_encoders-2.6.4\n",
            "Train set size: 345814\n",
            "Validation set size: 74103\n",
            "Test set size: 74104\n"
          ]
        }
      ]
    },
    {
      "cell_type": "markdown",
      "source": [
        "### **Editing of Target format**"
      ],
      "metadata": {
        "id": "73XApnd00BD1"
      },
      "id": "73XApnd00BD1"
    },
    {
      "cell_type": "code",
      "source": [
        "y_train = y_train.ravel()  # Ensure the target is a 1D array\n",
        "y_val = y_val.ravel()      # Do the same for validation target"
      ],
      "metadata": {
        "colab": {
          "base_uri": "https://localhost:8080/"
        },
        "id": "WbTjhZrA2v75",
        "outputId": "66498466-0cd7-41fc-8086-61f66220fd4c"
      },
      "id": "WbTjhZrA2v75",
      "execution_count": 27,
      "outputs": [
        {
          "output_type": "stream",
          "name": "stderr",
          "text": [
            "<ipython-input-27-a08e0b7b77ad>:1: FutureWarning: Series.ravel is deprecated. The underlying array is already 1D, so ravel is not necessary.  Use `to_numpy()` for conversion to a numpy array instead.\n",
            "  y_train = y_train.ravel()  # Ensure the target is a 1D array\n",
            "<ipython-input-27-a08e0b7b77ad>:2: FutureWarning: Series.ravel is deprecated. The underlying array is already 1D, so ravel is not necessary.  Use `to_numpy()` for conversion to a numpy array instead.\n",
            "  y_val = y_val.ravel()      # Do the same for validation target\n"
          ]
        }
      ]
    },
    {
      "cell_type": "code",
      "source": [
        "from sklearn.preprocessing import LabelEncoder\n",
        "\n",
        "le = LabelEncoder()\n",
        "y_train = le.fit_transform(y_train)\n",
        "y_val = le.transform(y_val)"
      ],
      "metadata": {
        "id": "M3QUHbob2xy7"
      },
      "id": "M3QUHbob2xy7",
      "execution_count": 28,
      "outputs": []
    },
    {
      "cell_type": "code",
      "source": [
        "from sklearn.preprocessing import LabelEncoder\n",
        "\n",
        "# Ensure target labels are numeric and 1D\n",
        "if not np.issubdtype(y_train.dtype, np.number):\n",
        "    le = LabelEncoder()\n",
        "    y_train = le.fit_transform(y_train)\n",
        "    y_val = le.transform(y_val)\n",
        "\n",
        "# Re-run RandomizedSearchCV after ensuring target is correctly formatted\n",
        "results = []\n",
        "best_models = {}\n",
        "\n",
        "for clf_name, (clf, param_dist) in classifiers.items():\n",
        "    # Randomized search for hyperparameter optimization\n",
        "    random_search = RandomizedSearchCV(clf, param_dist, n_iter=10, scoring='accuracy', cv=3, random_state=42, n_jobs=-1)\n",
        "    random_search.fit(X_train, y_train)\n",
        "\n",
        "    # Best model and its performance on validation data\n",
        "    best_model = random_search.best_estimator_\n",
        "    best_models[clf_name] = best_model\n",
        "    val_predictions = best_model.predict(X_val)\n",
        "    val_accuracy = accuracy_score(y_val, val_predictions)\n",
        "    results.append({'Classifier': clf_name, 'Best Params': random_search.best_params_, 'Validation Accuracy': val_accuracy})\n",
        "\n",
        "# Create a results DataFrame for easy comparison\n",
        "results_df = pd.DataFrame(results)\n",
        "\n",
        "# Display the results\n",
        "print(results_df)"
      ],
      "metadata": {
        "colab": {
          "base_uri": "https://localhost:8080/"
        },
        "id": "QoKS5EWX258i",
        "outputId": "49cbd778-f8f0-4c71-dd8c-d4313f08fcc3"
      },
      "id": "QoKS5EWX258i",
      "execution_count": null,
      "outputs": [
        {
          "output_type": "stream",
          "name": "stderr",
          "text": [
            "/usr/local/lib/python3.10/dist-packages/sklearn/model_selection/_split.py:776: UserWarning: The least populated class in y has only 1 members, which is less than n_splits=3.\n",
            "  warnings.warn(\n"
          ]
        }
      ]
    },
    {
      "cell_type": "markdown",
      "source": [
        "## Complications\n",
        "I faced challenges for this exercise, mianly because of formatting issues and the large size of the dataset. This is about as far as I could get especially considering the amount of waiting that this dataset needs! Lol."
      ],
      "metadata": {
        "id": "GcFIPaEf45FR"
      },
      "id": "GcFIPaEf45FR"
    }
  ],
  "metadata": {
    "kernelspec": {
      "display_name": "Python 3 (ipykernel)",
      "language": "python",
      "name": "python3"
    },
    "language_info": {
      "codemirror_mode": {
        "name": "ipython",
        "version": 3
      },
      "file_extension": ".py",
      "mimetype": "text/x-python",
      "name": "python",
      "nbconvert_exporter": "python",
      "pygments_lexer": "ipython3",
      "version": "3.9.6"
    },
    "colab": {
      "provenance": []
    }
  },
  "nbformat": 4,
  "nbformat_minor": 5
}